{
 "cells": [
  {
   "cell_type": "code",
   "execution_count": 1,
   "metadata": {},
   "outputs": [],
   "source": [
    "%load_ext autoreload\n",
    "%autoreload 2"
   ]
  },
  {
   "cell_type": "markdown",
   "metadata": {},
   "source": [
    "# Basic usage of `Cellij`"
   ]
  },
  {
   "cell_type": "code",
   "execution_count": 2,
   "metadata": {},
   "outputs": [
    {
     "name": "stderr",
     "output_type": "stream",
     "text": [
      "/Users/tim.treis/anaconda3/envs/spatialdata/envs/cellij/lib/python3.10/site-packages/umap/distances.py:1063: NumbaDeprecationWarning: \u001b[1mThe 'nopython' keyword argument was not supplied to the 'numba.jit' decorator. The implicit default value for this argument is currently False, but it will be changed to True in Numba 0.59.0. See https://numba.readthedocs.io/en/stable/reference/deprecation.html#deprecation-of-object-mode-fall-back-behaviour-when-using-jit for details.\u001b[0m\n",
      "  @numba.jit()\n",
      "/Users/tim.treis/anaconda3/envs/spatialdata/envs/cellij/lib/python3.10/site-packages/umap/distances.py:1071: NumbaDeprecationWarning: \u001b[1mThe 'nopython' keyword argument was not supplied to the 'numba.jit' decorator. The implicit default value for this argument is currently False, but it will be changed to True in Numba 0.59.0. See https://numba.readthedocs.io/en/stable/reference/deprecation.html#deprecation-of-object-mode-fall-back-behaviour-when-using-jit for details.\u001b[0m\n",
      "  @numba.jit()\n",
      "/Users/tim.treis/anaconda3/envs/spatialdata/envs/cellij/lib/python3.10/site-packages/umap/distances.py:1086: NumbaDeprecationWarning: \u001b[1mThe 'nopython' keyword argument was not supplied to the 'numba.jit' decorator. The implicit default value for this argument is currently False, but it will be changed to True in Numba 0.59.0. See https://numba.readthedocs.io/en/stable/reference/deprecation.html#deprecation-of-object-mode-fall-back-behaviour-when-using-jit for details.\u001b[0m\n",
      "  @numba.jit()\n",
      "/Users/tim.treis/anaconda3/envs/spatialdata/envs/cellij/lib/python3.10/site-packages/umap/umap_.py:660: NumbaDeprecationWarning: \u001b[1mThe 'nopython' keyword argument was not supplied to the 'numba.jit' decorator. The implicit default value for this argument is currently False, but it will be changed to True in Numba 0.59.0. See https://numba.readthedocs.io/en/stable/reference/deprecation.html#deprecation-of-object-mode-fall-back-behaviour-when-using-jit for details.\u001b[0m\n",
      "  @numba.jit()\n"
     ]
    }
   ],
   "source": [
    "import cellij"
   ]
  },
  {
   "cell_type": "markdown",
   "metadata": {},
   "source": [
    "## Load data\n",
    "This notebook uses a subset of a chronic lymphocytic leukaemia (CLL) data set, which combined ex vivo drug response measurements with somatic mutation status, transcriptome profiling and DNA methylation assays. [1]\n",
    "\n",
    "1: Drug-perturbation-based stratification of blood cancer by Dietrich et al. (2018) "
   ]
  },
  {
   "cell_type": "code",
   "execution_count": 3,
   "metadata": {},
   "outputs": [
    {
     "data": {
      "text/plain": [
       "AnnData object with n_obs × n_vars = 136 × 5000"
      ]
     },
     "execution_count": 3,
     "metadata": {},
     "output_type": "execute_result"
    }
   ],
   "source": [
    "mdata = cellij.Importer().load_CLL()\n",
    "adata = mdata[\"mrna\"]\n",
    "adata"
   ]
  },
  {
   "cell_type": "markdown",
   "metadata": {},
   "source": [
    "## Define the FactorModel\n",
    "bla bla, set n_factors because there is no optimum/correct"
   ]
  },
  {
   "cell_type": "code",
   "execution_count": 4,
   "metadata": {},
   "outputs": [
    {
     "data": {
      "text/plain": [
       "FactorModel()"
      ]
     },
     "execution_count": 4,
     "metadata": {},
     "output_type": "execute_result"
    }
   ],
   "source": [
    "model = cellij.FactorModel(n_factors=10)\n",
    "model.add_data(adata, name=\"mrna\")\n",
    "model"
   ]
  },
  {
   "cell_type": "code",
   "execution_count": 5,
   "metadata": {},
   "outputs": [
    {
     "name": "stdout",
     "output_type": "stream",
     "text": [
      "{'all_observations': ['H045', 'H109', 'H024', 'H056', 'H079', 'H164', 'H059', 'H167', 'H113', 'H049', 'H133', 'H103', 'H035', 'H121', 'H033', 'H064', 'H236', 'H238', 'H171', 'H018', 'H115', 'H117', 'H053', 'H148', 'H165', 'H114', 'H038', 'H240', 'H173', 'H187', 'H234', 'H060', 'H191', 'H118', 'H228', 'H100', 'H104', 'H054', 'H046', 'H099', 'H112', 'H110', 'H225', 'H019', 'H163', 'H233', 'H231', 'H111', 'H096', 'H042', 'H077', 'H088', 'H013', 'H031', 'H023', 'H017', 'H097', 'H057', 'H040', 'H010', 'H047', 'H105', 'H044', 'H030', 'H107', 'H094', 'H058', 'H028', 'H021', 'H119', 'H005', 'H016', 'H055', 'H080', 'H041', 'H043', 'H011', 'H102', 'H020', 'H014', 'H085', 'H022', 'H078', 'H015', 'H116', 'H029', 'H036', 'H072', 'H087', 'H095', 'H090', 'H108', 'H039', 'H083', 'H082', 'H073', 'H081', 'H027', 'H069', 'H101', 'H012', 'H051', 'H037', 'H169', 'H246', 'H257', 'H268', 'H270', 'H265', 'H048', 'H249', 'H093', 'H089', 'H266', 'H007', 'H256', 'H168', 'H008', 'H063', 'H242', 'H272', 'H065', 'H194', 'H062', 'H243', 'H239', 'H271', 'H006', 'H084', 'H260', 'H192', 'H070', 'H255', 'H135', 'H247', 'H066']}\n",
      "{'scale_views': False, 'scale_features': False, 'center_features': True}\n",
      "{'likelihoods': {'mrna': 'Normal'}, 'factor_priors': {'mrna': 'Normal'}, 'weight_priors': {'all_observations': 'Normal'}, 'groups': {'all_observations': ['H045', 'H109', 'H024', 'H056', 'H079', 'H164', 'H059', 'H167', 'H113', 'H049', 'H133', 'H103', 'H035', 'H121', 'H033', 'H064', 'H236', 'H238', 'H171', 'H018', 'H115', 'H117', 'H053', 'H148', 'H165', 'H114', 'H038', 'H240', 'H173', 'H187', 'H234', 'H060', 'H191', 'H118', 'H228', 'H100', 'H104', 'H054', 'H046', 'H099', 'H112', 'H110', 'H225', 'H019', 'H163', 'H233', 'H231', 'H111', 'H096', 'H042', 'H077', 'H088', 'H013', 'H031', 'H023', 'H017', 'H097', 'H057', 'H040', 'H010', 'H047', 'H105', 'H044', 'H030', 'H107', 'H094', 'H058', 'H028', 'H021', 'H119', 'H005', 'H016', 'H055', 'H080', 'H041', 'H043', 'H011', 'H102', 'H020', 'H014', 'H085', 'H022', 'H078', 'H015', 'H116', 'H029', 'H036', 'H072', 'H087', 'H095', 'H090', 'H108', 'H039', 'H083', 'H082', 'H073', 'H081', 'H027', 'H069', 'H101', 'H012', 'H051', 'H037', 'H169', 'H246', 'H257', 'H268', 'H270', 'H265', 'H048', 'H249', 'H093', 'H089', 'H266', 'H007', 'H256', 'H168', 'H008', 'H063', 'H242', 'H272', 'H065', 'H194', 'H062', 'H243', 'H239', 'H271', 'H006', 'H084', 'H260', 'H192', 'H070', 'H255', 'H135', 'H247', 'H066']}}\n",
      "{'early_stopping': True, 'verbose_epochs': 100, 'patience': 500, 'min_delta': 0.1, 'percentage': True, 'scale_gradients': True, 'optimizer': 'ClippedAdam', 'num_particles': 1, 'learning_rate': 0.003}\n",
      "all_observations InverseGamma\n",
      "mrna Normal\n",
      "all_observations Normal\n"
     ]
    },
    {
     "ename": "TypeError",
     "evalue": "arange() received an invalid combination of arguments - got (list, device=torch.device), but expected one of:\n * (Number end, *, Tensor out, torch.dtype dtype, torch.layout layout, torch.device device, bool pin_memory, bool requires_grad)\n * (Number start, Number end, *, torch.dtype dtype, torch.layout layout, torch.device device, bool pin_memory, bool requires_grad)\n * (Number start, Number end, Number step, *, Tensor out, torch.dtype dtype, torch.layout layout, torch.device device, bool pin_memory, bool requires_grad)\n",
     "output_type": "error",
     "traceback": [
      "\u001b[0;31m---------------------------------------------------------------------------\u001b[0m",
      "\u001b[0;31mTypeError\u001b[0m                                 Traceback (most recent call last)",
      "Cell \u001b[0;32mIn[5], line 1\u001b[0m\n\u001b[0;32m----> 1\u001b[0m model\u001b[39m.\u001b[39;49mfit()\n",
      "File \u001b[0;32m~/Documents/GitHub/cellij/cellij/core/factormodel.py:795\u001b[0m, in \u001b[0;36mFactorModel.fit\u001b[0;34m(self, epochs, verbose)\u001b[0m\n\u001b[1;32m    784\u001b[0m feature_dict \u001b[39m=\u001b[39m {\u001b[39mf\u001b[39m\u001b[39m\"\u001b[39m\u001b[39mview_\u001b[39m\u001b[39m{\u001b[39;00mname\u001b[39m}\u001b[39;00m\u001b[39m\"\u001b[39m: \u001b[39mlist\u001b[39m(adata\u001b[39m.\u001b[39mvar_names) \u001b[39mfor\u001b[39;00m name, adata \u001b[39min\u001b[39;00m \u001b[39mself\u001b[39m\u001b[39m.\u001b[39mfeature_groups\u001b[39m.\u001b[39mitems()}\n\u001b[1;32m    786\u001b[0m \u001b[39mself\u001b[39m\u001b[39m.\u001b[39m_model \u001b[39m=\u001b[39m Generative(\n\u001b[1;32m    787\u001b[0m     n_factors\u001b[39m=\u001b[39m\u001b[39mself\u001b[39m\u001b[39m.\u001b[39mn_factors,\n\u001b[1;32m    788\u001b[0m     obs_dict\u001b[39m=\u001b[39mobs_dict,\n\u001b[0;32m   (...)\u001b[0m\n\u001b[1;32m    793\u001b[0m     device\u001b[39m=\u001b[39m\u001b[39mself\u001b[39m\u001b[39m.\u001b[39mdevice,\n\u001b[1;32m    794\u001b[0m )\n\u001b[0;32m--> 795\u001b[0m \u001b[39mself\u001b[39m\u001b[39m.\u001b[39m_guide \u001b[39m=\u001b[39m cellij\u001b[39m.\u001b[39;49mcore\u001b[39m.\u001b[39;49m_pyro_guides\u001b[39m.\u001b[39;49mGuide(\u001b[39mself\u001b[39;49m\u001b[39m.\u001b[39;49m_model)\n\u001b[1;32m    798\u001b[0m \u001b[39m# If early stopping is set, check if it is a valid value\u001b[39;00m\n\u001b[1;32m    799\u001b[0m \u001b[39mif\u001b[39;00m \u001b[39mself\u001b[39m\u001b[39m.\u001b[39m_training_options[\u001b[39m\"\u001b[39m\u001b[39mearly_stopping\u001b[39m\u001b[39m\"\u001b[39m]:\n",
      "File \u001b[0;32m~/Documents/GitHub/cellij/cellij/core/_pyro_guides.py:351\u001b[0m, in \u001b[0;36mGuide.__init__\u001b[0;34m(self, model)\u001b[0m\n\u001b[1;32m    347\u001b[0m \u001b[39mself\u001b[39m\u001b[39m.\u001b[39mto(\u001b[39mself\u001b[39m\u001b[39m.\u001b[39mdevice)\n\u001b[1;32m    349\u001b[0m \u001b[39m# dry run to setup shapes\u001b[39;00m\n\u001b[1;32m    350\u001b[0m \u001b[39m# call before setting up q_dists\u001b[39;00m\n\u001b[0;32m--> 351\u001b[0m \u001b[39mself\u001b[39;49m\u001b[39m.\u001b[39;49mmodel()\n\u001b[1;32m    353\u001b[0m \u001b[39mself\u001b[39m\u001b[39m.\u001b[39msigma_q_dists \u001b[39m=\u001b[39m \u001b[39mself\u001b[39m\u001b[39m.\u001b[39m_get_q_dists(\u001b[39mself\u001b[39m\u001b[39m.\u001b[39mmodel\u001b[39m.\u001b[39msigma_priors)\n\u001b[1;32m    354\u001b[0m \u001b[39mself\u001b[39m\u001b[39m.\u001b[39mfactor_q_dists \u001b[39m=\u001b[39m \u001b[39mself\u001b[39m\u001b[39m.\u001b[39m_get_q_dists(\u001b[39mself\u001b[39m\u001b[39m.\u001b[39mmodel\u001b[39m.\u001b[39mfactor_priors)\n",
      "File \u001b[0;32m~/anaconda3/envs/spatialdata/envs/cellij/lib/python3.10/site-packages/pyro/nn/module.py:449\u001b[0m, in \u001b[0;36mPyroModule.__call__\u001b[0;34m(self, *args, **kwargs)\u001b[0m\n\u001b[1;32m    447\u001b[0m \u001b[39mdef\u001b[39;00m \u001b[39m__call__\u001b[39m(\u001b[39mself\u001b[39m, \u001b[39m*\u001b[39margs, \u001b[39m*\u001b[39m\u001b[39m*\u001b[39mkwargs):\n\u001b[1;32m    448\u001b[0m     \u001b[39mwith\u001b[39;00m \u001b[39mself\u001b[39m\u001b[39m.\u001b[39m_pyro_context:\n\u001b[0;32m--> 449\u001b[0m         result \u001b[39m=\u001b[39m \u001b[39msuper\u001b[39;49m()\u001b[39m.\u001b[39;49m\u001b[39m__call__\u001b[39;49m(\u001b[39m*\u001b[39;49margs, \u001b[39m*\u001b[39;49m\u001b[39m*\u001b[39;49mkwargs)\n\u001b[1;32m    450\u001b[0m     \u001b[39mif\u001b[39;00m (\n\u001b[1;32m    451\u001b[0m         pyro\u001b[39m.\u001b[39msettings\u001b[39m.\u001b[39mget(\u001b[39m\"\u001b[39m\u001b[39mvalidate_poutine\u001b[39m\u001b[39m\"\u001b[39m)\n\u001b[1;32m    452\u001b[0m         \u001b[39mand\u001b[39;00m \u001b[39mnot\u001b[39;00m \u001b[39mself\u001b[39m\u001b[39m.\u001b[39m_pyro_context\u001b[39m.\u001b[39mactive\n\u001b[1;32m    453\u001b[0m         \u001b[39mand\u001b[39;00m _is_module_local_param_enabled()\n\u001b[1;32m    454\u001b[0m     ):\n\u001b[1;32m    455\u001b[0m         \u001b[39mself\u001b[39m\u001b[39m.\u001b[39m_check_module_local_param_usage()\n",
      "File \u001b[0;32m~/anaconda3/envs/spatialdata/envs/cellij/lib/python3.10/site-packages/torch/nn/modules/module.py:1501\u001b[0m, in \u001b[0;36mModule._call_impl\u001b[0;34m(self, *args, **kwargs)\u001b[0m\n\u001b[1;32m   1496\u001b[0m \u001b[39m# If we don't have any hooks, we want to skip the rest of the logic in\u001b[39;00m\n\u001b[1;32m   1497\u001b[0m \u001b[39m# this function, and just call forward.\u001b[39;00m\n\u001b[1;32m   1498\u001b[0m \u001b[39mif\u001b[39;00m \u001b[39mnot\u001b[39;00m (\u001b[39mself\u001b[39m\u001b[39m.\u001b[39m_backward_hooks \u001b[39mor\u001b[39;00m \u001b[39mself\u001b[39m\u001b[39m.\u001b[39m_backward_pre_hooks \u001b[39mor\u001b[39;00m \u001b[39mself\u001b[39m\u001b[39m.\u001b[39m_forward_hooks \u001b[39mor\u001b[39;00m \u001b[39mself\u001b[39m\u001b[39m.\u001b[39m_forward_pre_hooks\n\u001b[1;32m   1499\u001b[0m         \u001b[39mor\u001b[39;00m _global_backward_pre_hooks \u001b[39mor\u001b[39;00m _global_backward_hooks\n\u001b[1;32m   1500\u001b[0m         \u001b[39mor\u001b[39;00m _global_forward_hooks \u001b[39mor\u001b[39;00m _global_forward_pre_hooks):\n\u001b[0;32m-> 1501\u001b[0m     \u001b[39mreturn\u001b[39;00m forward_call(\u001b[39m*\u001b[39;49margs, \u001b[39m*\u001b[39;49m\u001b[39m*\u001b[39;49mkwargs)\n\u001b[1;32m   1502\u001b[0m \u001b[39m# Do not call functions when jit is used\u001b[39;00m\n\u001b[1;32m   1503\u001b[0m full_backward_hooks, non_full_backward_hooks \u001b[39m=\u001b[39m [], []\n",
      "File \u001b[0;32m~/Documents/GitHub/cellij/cellij/core/_pyro_models.py:127\u001b[0m, in \u001b[0;36mGenerative.forward\u001b[0;34m(self, data, covariate)\u001b[0m\n\u001b[1;32m    122\u001b[0m \u001b[39mdef\u001b[39;00m \u001b[39mforward\u001b[39m(\n\u001b[1;32m    123\u001b[0m     \u001b[39mself\u001b[39m,\n\u001b[1;32m    124\u001b[0m     data: Optional[\u001b[39mdict\u001b[39m[\u001b[39mstr\u001b[39m, \u001b[39mdict\u001b[39m[\u001b[39mstr\u001b[39m, torch\u001b[39m.\u001b[39mTensor]]] \u001b[39m=\u001b[39m \u001b[39mNone\u001b[39;00m,\n\u001b[1;32m    125\u001b[0m     covariate: Optional[torch\u001b[39m.\u001b[39mTensor] \u001b[39m=\u001b[39m \u001b[39mNone\u001b[39;00m,\n\u001b[1;32m    126\u001b[0m ) \u001b[39m-\u001b[39m\u001b[39m>\u001b[39m \u001b[39mdict\u001b[39m[\u001b[39mstr\u001b[39m, torch\u001b[39m.\u001b[39mTensor]:\n\u001b[0;32m--> 127\u001b[0m     plates \u001b[39m=\u001b[39m \u001b[39mself\u001b[39;49m\u001b[39m.\u001b[39;49mget_plates()\n\u001b[1;32m    129\u001b[0m     \u001b[39mfor\u001b[39;00m obs_group, factor_prior \u001b[39min\u001b[39;00m \u001b[39mself\u001b[39m\u001b[39m.\u001b[39mfactor_priors\u001b[39m.\u001b[39mitems():\n\u001b[1;32m    130\u001b[0m         factor_prior\u001b[39m.\u001b[39msample_global()\n",
      "File \u001b[0;32m~/Documents/GitHub/cellij/cellij/core/_pyro_models.py:114\u001b[0m, in \u001b[0;36mGenerative.get_plates\u001b[0;34m(self)\u001b[0m\n\u001b[1;32m    110\u001b[0m plates \u001b[39m=\u001b[39m {\n\u001b[1;32m    111\u001b[0m     \u001b[39m\"\u001b[39m\u001b[39mfactor\u001b[39m\u001b[39m\"\u001b[39m: pyro\u001b[39m.\u001b[39mplate(\u001b[39m\"\u001b[39m\u001b[39mfactor\u001b[39m\u001b[39m\"\u001b[39m, \u001b[39mself\u001b[39m\u001b[39m.\u001b[39mn_factors, dim\u001b[39m=\u001b[39m\u001b[39m-\u001b[39m\u001b[39m2\u001b[39m),\n\u001b[1;32m    112\u001b[0m }\n\u001b[1;32m    113\u001b[0m \u001b[39mfor\u001b[39;00m obs_group, n_obs \u001b[39min\u001b[39;00m \u001b[39mself\u001b[39m\u001b[39m.\u001b[39mobs_dict\u001b[39m.\u001b[39mitems():\n\u001b[0;32m--> 114\u001b[0m     plates[\u001b[39mf\u001b[39m\u001b[39m\"\u001b[39m\u001b[39mobs_\u001b[39m\u001b[39m{\u001b[39;00mobs_group\u001b[39m}\u001b[39;00m\u001b[39m\"\u001b[39m] \u001b[39m=\u001b[39m pyro\u001b[39m.\u001b[39;49mplate(obs_group, n_obs, dim\u001b[39m=\u001b[39;49m\u001b[39m-\u001b[39;49m\u001b[39m3\u001b[39;49m)\n\u001b[1;32m    115\u001b[0m \u001b[39mfor\u001b[39;00m feature_group, n_features \u001b[39min\u001b[39;00m \u001b[39mself\u001b[39m\u001b[39m.\u001b[39mfeature_dict\u001b[39m.\u001b[39mitems():\n\u001b[1;32m    116\u001b[0m     plates[\u001b[39mf\u001b[39m\u001b[39m\"\u001b[39m\u001b[39mfeature_\u001b[39m\u001b[39m{\u001b[39;00mfeature_group\u001b[39m}\u001b[39;00m\u001b[39m\"\u001b[39m] \u001b[39m=\u001b[39m pyro\u001b[39m.\u001b[39mplate(\n\u001b[1;32m    117\u001b[0m         feature_group, n_features, dim\u001b[39m=\u001b[39m\u001b[39m-\u001b[39m\u001b[39m1\u001b[39m\n\u001b[1;32m    118\u001b[0m     )\n",
      "File \u001b[0;32m~/anaconda3/envs/spatialdata/envs/cellij/lib/python3.10/site-packages/pyro/poutine/subsample_messenger.py:88\u001b[0m, in \u001b[0;36mSubsampleMessenger.__init__\u001b[0;34m(self, name, size, subsample_size, subsample, dim, use_cuda, device)\u001b[0m\n\u001b[1;32m     85\u001b[0m \u001b[39mself\u001b[39m\u001b[39m.\u001b[39muse_cuda \u001b[39m=\u001b[39m use_cuda\n\u001b[1;32m     86\u001b[0m \u001b[39mself\u001b[39m\u001b[39m.\u001b[39mdevice \u001b[39m=\u001b[39m device\n\u001b[0;32m---> 88\u001b[0m \u001b[39mself\u001b[39m\u001b[39m.\u001b[39msize, \u001b[39mself\u001b[39m\u001b[39m.\u001b[39msubsample_size, \u001b[39mself\u001b[39m\u001b[39m.\u001b[39m_indices \u001b[39m=\u001b[39m \u001b[39mself\u001b[39;49m\u001b[39m.\u001b[39;49m_subsample(\n\u001b[1;32m     89\u001b[0m     \u001b[39mself\u001b[39;49m\u001b[39m.\u001b[39;49mname,\n\u001b[1;32m     90\u001b[0m     \u001b[39mself\u001b[39;49m\u001b[39m.\u001b[39;49msize,\n\u001b[1;32m     91\u001b[0m     \u001b[39mself\u001b[39;49m\u001b[39m.\u001b[39;49msubsample_size,\n\u001b[1;32m     92\u001b[0m     \u001b[39mself\u001b[39;49m\u001b[39m.\u001b[39;49m_indices,\n\u001b[1;32m     93\u001b[0m     \u001b[39mself\u001b[39;49m\u001b[39m.\u001b[39;49muse_cuda,\n\u001b[1;32m     94\u001b[0m     \u001b[39mself\u001b[39;49m\u001b[39m.\u001b[39;49mdevice,\n\u001b[1;32m     95\u001b[0m )\n",
      "File \u001b[0;32m~/anaconda3/envs/spatialdata/envs/cellij/lib/python3.10/site-packages/pyro/poutine/subsample_messenger.py:126\u001b[0m, in \u001b[0;36mSubsampleMessenger._subsample\u001b[0;34m(name, size, subsample_size, subsample, use_cuda, device)\u001b[0m\n\u001b[1;32m    109\u001b[0m \u001b[39melse\u001b[39;00m:\n\u001b[1;32m    110\u001b[0m     msg \u001b[39m=\u001b[39m {\n\u001b[1;32m    111\u001b[0m         \u001b[39m\"\u001b[39m\u001b[39mtype\u001b[39m\u001b[39m\"\u001b[39m: \u001b[39m\"\u001b[39m\u001b[39msample\u001b[39m\u001b[39m\"\u001b[39m,\n\u001b[1;32m    112\u001b[0m         \u001b[39m\"\u001b[39m\u001b[39mname\u001b[39m\u001b[39m\"\u001b[39m: name,\n\u001b[0;32m   (...)\u001b[0m\n\u001b[1;32m    124\u001b[0m         \u001b[39m\"\u001b[39m\u001b[39mcontinuation\u001b[39m\u001b[39m\"\u001b[39m: \u001b[39mNone\u001b[39;00m,\n\u001b[1;32m    125\u001b[0m     }\n\u001b[0;32m--> 126\u001b[0m     apply_stack(msg)\n\u001b[1;32m    127\u001b[0m     subsample \u001b[39m=\u001b[39m msg[\u001b[39m\"\u001b[39m\u001b[39mvalue\u001b[39m\u001b[39m\"\u001b[39m]\n\u001b[1;32m    129\u001b[0m \u001b[39mwith\u001b[39;00m ignore_jit_warnings():\n",
      "File \u001b[0;32m~/anaconda3/envs/spatialdata/envs/cellij/lib/python3.10/site-packages/pyro/poutine/runtime.py:217\u001b[0m, in \u001b[0;36mapply_stack\u001b[0;34m(initial_msg)\u001b[0m\n\u001b[1;32m    214\u001b[0m     \u001b[39mif\u001b[39;00m msg[\u001b[39m\"\u001b[39m\u001b[39mstop\u001b[39m\u001b[39m\"\u001b[39m]:\n\u001b[1;32m    215\u001b[0m         \u001b[39mbreak\u001b[39;00m\n\u001b[0;32m--> 217\u001b[0m default_process_message(msg)\n\u001b[1;32m    219\u001b[0m \u001b[39mfor\u001b[39;00m frame \u001b[39min\u001b[39;00m stack[\u001b[39m-\u001b[39mpointer:]:\n\u001b[1;32m    220\u001b[0m     frame\u001b[39m.\u001b[39m_postprocess_message(msg)\n",
      "File \u001b[0;32m~/anaconda3/envs/spatialdata/envs/cellij/lib/python3.10/site-packages/pyro/poutine/runtime.py:179\u001b[0m, in \u001b[0;36mdefault_process_message\u001b[0;34m(msg)\u001b[0m\n\u001b[1;32m    176\u001b[0m     msg[\u001b[39m\"\u001b[39m\u001b[39mdone\u001b[39m\u001b[39m\"\u001b[39m] \u001b[39m=\u001b[39m \u001b[39mTrue\u001b[39;00m\n\u001b[1;32m    177\u001b[0m     \u001b[39mreturn\u001b[39;00m msg\n\u001b[0;32m--> 179\u001b[0m msg[\u001b[39m\"\u001b[39m\u001b[39mvalue\u001b[39m\u001b[39m\"\u001b[39m] \u001b[39m=\u001b[39m msg[\u001b[39m\"\u001b[39;49m\u001b[39mfn\u001b[39;49m\u001b[39m\"\u001b[39;49m](\u001b[39m*\u001b[39;49mmsg[\u001b[39m\"\u001b[39;49m\u001b[39margs\u001b[39;49m\u001b[39m\"\u001b[39;49m], \u001b[39m*\u001b[39;49m\u001b[39m*\u001b[39;49mmsg[\u001b[39m\"\u001b[39;49m\u001b[39mkwargs\u001b[39;49m\u001b[39m\"\u001b[39;49m])\n\u001b[1;32m    181\u001b[0m \u001b[39m# after fn has been called, update msg to prevent it from being called again.\u001b[39;00m\n\u001b[1;32m    182\u001b[0m msg[\u001b[39m\"\u001b[39m\u001b[39mdone\u001b[39m\u001b[39m\"\u001b[39m] \u001b[39m=\u001b[39m \u001b[39mTrue\u001b[39;00m\n",
      "File \u001b[0;32m~/anaconda3/envs/spatialdata/envs/cellij/lib/python3.10/site-packages/pyro/distributions/distribution.py:63\u001b[0m, in \u001b[0;36mDistribution.__call__\u001b[0;34m(self, *args, **kwargs)\u001b[0m\n\u001b[1;32m     53\u001b[0m \u001b[39mdef\u001b[39;00m \u001b[39m__call__\u001b[39m(\u001b[39mself\u001b[39m, \u001b[39m*\u001b[39margs, \u001b[39m*\u001b[39m\u001b[39m*\u001b[39mkwargs):\n\u001b[1;32m     54\u001b[0m \u001b[39m    \u001b[39m\u001b[39m\"\"\"\u001b[39;00m\n\u001b[1;32m     55\u001b[0m \u001b[39m    Samples a random value (just an alias for ``.sample(*args, **kwargs)``).\u001b[39;00m\n\u001b[1;32m     56\u001b[0m \n\u001b[0;32m   (...)\u001b[0m\n\u001b[1;32m     61\u001b[0m \u001b[39m    :rtype: torch.Tensor\u001b[39;00m\n\u001b[1;32m     62\u001b[0m \u001b[39m    \"\"\"\u001b[39;00m\n\u001b[0;32m---> 63\u001b[0m     \u001b[39mreturn\u001b[39;00m \u001b[39mself\u001b[39;49m\u001b[39m.\u001b[39;49msample(\u001b[39m*\u001b[39;49margs, \u001b[39m*\u001b[39;49m\u001b[39m*\u001b[39;49mkwargs)\n",
      "File \u001b[0;32m~/anaconda3/envs/spatialdata/envs/cellij/lib/python3.10/contextlib.py:79\u001b[0m, in \u001b[0;36mContextDecorator.__call__.<locals>.inner\u001b[0;34m(*args, **kwds)\u001b[0m\n\u001b[1;32m     76\u001b[0m \u001b[39m@wraps\u001b[39m(func)\n\u001b[1;32m     77\u001b[0m \u001b[39mdef\u001b[39;00m \u001b[39minner\u001b[39m(\u001b[39m*\u001b[39margs, \u001b[39m*\u001b[39m\u001b[39m*\u001b[39mkwds):\n\u001b[1;32m     78\u001b[0m     \u001b[39mwith\u001b[39;00m \u001b[39mself\u001b[39m\u001b[39m.\u001b[39m_recreate_cm():\n\u001b[0;32m---> 79\u001b[0m         \u001b[39mreturn\u001b[39;00m func(\u001b[39m*\u001b[39;49margs, \u001b[39m*\u001b[39;49m\u001b[39m*\u001b[39;49mkwds)\n",
      "File \u001b[0;32m~/anaconda3/envs/spatialdata/envs/cellij/lib/python3.10/site-packages/pyro/poutine/subsample_messenger.py:53\u001b[0m, in \u001b[0;36m_Subsample.sample\u001b[0;34m(self, sample_shape)\u001b[0m\n\u001b[1;32m     51\u001b[0m subsample_size \u001b[39m=\u001b[39m \u001b[39mself\u001b[39m\u001b[39m.\u001b[39msubsample_size\n\u001b[1;32m     52\u001b[0m \u001b[39mif\u001b[39;00m subsample_size \u001b[39mis\u001b[39;00m \u001b[39mNone\u001b[39;00m \u001b[39mor\u001b[39;00m subsample_size \u001b[39m>\u001b[39m\u001b[39m=\u001b[39m \u001b[39mself\u001b[39m\u001b[39m.\u001b[39msize:\n\u001b[0;32m---> 53\u001b[0m     result \u001b[39m=\u001b[39m torch\u001b[39m.\u001b[39;49marange(\u001b[39mself\u001b[39;49m\u001b[39m.\u001b[39;49msize, device\u001b[39m=\u001b[39;49m\u001b[39mself\u001b[39;49m\u001b[39m.\u001b[39;49mdevice)\n\u001b[1;32m     54\u001b[0m \u001b[39melse\u001b[39;00m:\n\u001b[1;32m     55\u001b[0m     result \u001b[39m=\u001b[39m torch\u001b[39m.\u001b[39mrandperm(\u001b[39mself\u001b[39m\u001b[39m.\u001b[39msize, device\u001b[39m=\u001b[39m\u001b[39mself\u001b[39m\u001b[39m.\u001b[39mdevice)[\n\u001b[1;32m     56\u001b[0m         :subsample_size\n\u001b[1;32m     57\u001b[0m     ]\u001b[39m.\u001b[39mclone()\n",
      "\u001b[0;31mTypeError\u001b[0m: arange() received an invalid combination of arguments - got (list, device=torch.device), but expected one of:\n * (Number end, *, Tensor out, torch.dtype dtype, torch.layout layout, torch.device device, bool pin_memory, bool requires_grad)\n * (Number start, Number end, *, torch.dtype dtype, torch.layout layout, torch.device device, bool pin_memory, bool requires_grad)\n * (Number start, Number end, Number step, *, Tensor out, torch.dtype dtype, torch.layout layout, torch.device device, bool pin_memory, bool requires_grad)\n"
     ]
    }
   ],
   "source": [
    "model.fit()"
   ]
  },
  {
   "cell_type": "code",
   "execution_count": null,
   "metadata": {},
   "outputs": [
    {
     "name": "stderr",
     "output_type": "stream",
     "text": [
      "[autoreload of cellij failed: Traceback (most recent call last):\n",
      "  File \"/Users/tim.treis/anaconda3/envs/spatialdata/envs/cellij/lib/python3.10/site-packages/IPython/extensions/autoreload.py\", line 276, in check\n",
      "    superreload(m, reload, self.old_objects)\n",
      "  File \"/Users/tim.treis/anaconda3/envs/spatialdata/envs/cellij/lib/python3.10/site-packages/IPython/extensions/autoreload.py\", line 475, in superreload\n",
      "    module = reload(module)\n",
      "  File \"/Users/tim.treis/anaconda3/envs/spatialdata/envs/cellij/lib/python3.10/importlib/__init__.py\", line 169, in reload\n",
      "    _bootstrap._exec(spec, module)\n",
      "  File \"<frozen importlib._bootstrap>\", line 619, in _exec\n",
      "  File \"<frozen importlib._bootstrap_external>\", line 883, in exec_module\n",
      "  File \"<frozen importlib._bootstrap>\", line 241, in _call_with_frames_removed\n",
      "  File \"/Users/tim.treis/Documents/GitHub/cellij/cellij/__init__.py\", line 1, in <module>\n",
      "    from .core import _data, _priors, _pyro_guides, _pyro_models, factormodel, models, synthetic\n",
      "  File \"/Users/tim.treis/Documents/GitHub/cellij/cellij/core/_priors.py\", line 16, in <module>\n",
      "    \"InverseGamma\": cellij._priors.InverseGammaPrior,\n",
      "AttributeError: module 'cellij' has no attribute '_priors'\n",
      "]\n"
     ]
    },
    {
     "ename": "AttributeError",
     "evalue": "module 'cellij.core' has no attribute '_priors'",
     "output_type": "error",
     "traceback": [
      "\u001b[0;31m---------------------------------------------------------------------------\u001b[0m",
      "\u001b[0;31mAttributeError\u001b[0m                            Traceback (most recent call last)",
      "Cell \u001b[0;32mIn[33], line 1\u001b[0m\n\u001b[0;32m----> 1\u001b[0m cellij\u001b[39m.\u001b[39;49mcore\u001b[39m.\u001b[39;49m_priors\n",
      "\u001b[0;31mAttributeError\u001b[0m: module 'cellij.core' has no attribute '_priors'"
     ]
    }
   ],
   "source": [
    "cellij.core._priors"
   ]
  }
 ],
 "metadata": {
  "kernelspec": {
   "display_name": "cellij",
   "language": "python",
   "name": "python3"
  },
  "language_info": {
   "codemirror_mode": {
    "name": "ipython",
    "version": 3
   },
   "file_extension": ".py",
   "mimetype": "text/x-python",
   "name": "python",
   "nbconvert_exporter": "python",
   "pygments_lexer": "ipython3",
   "version": "3.10.12"
  },
  "orig_nbformat": 4
 },
 "nbformat": 4,
 "nbformat_minor": 2
}
